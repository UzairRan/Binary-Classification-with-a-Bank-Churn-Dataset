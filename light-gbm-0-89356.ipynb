{
 "cells": [
  {
   "cell_type": "code",
   "execution_count": 1,
   "id": "98bb163b",
   "metadata": {
    "_cell_guid": "b1076dfc-b9ad-4769-8c92-a6c4dae69d19",
    "_uuid": "8f2839f25d086af736a60e9eeb907d3b93b6e0e5",
    "execution": {
     "iopub.execute_input": "2024-01-28T13:08:30.591817Z",
     "iopub.status.busy": "2024-01-28T13:08:30.591435Z",
     "iopub.status.idle": "2024-01-28T13:08:31.001879Z",
     "shell.execute_reply": "2024-01-28T13:08:31.000625Z"
    },
    "papermill": {
     "duration": 0.422265,
     "end_time": "2024-01-28T13:08:31.006122",
     "exception": false,
     "start_time": "2024-01-28T13:08:30.583857",
     "status": "completed"
    },
    "tags": []
   },
   "outputs": [
    {
     "name": "stdout",
     "output_type": "stream",
     "text": [
      "/kaggle/input/playground-series-s4e1/sample_submission.csv\n",
      "/kaggle/input/playground-series-s4e1/train.csv\n",
      "/kaggle/input/playground-series-s4e1/test.csv\n",
      "/kaggle/input/bank-customer-churn-prediction/Churn_Modelling.csv\n"
     ]
    }
   ],
   "source": [
    "# This Python 3 environment comes with many helpful analytics libraries installed\n",
    "# It is defined by the kaggle/python Docker image: https://github.com/kaggle/docker-python\n",
    "# For example, here's several helpful packages to load\n",
    "\n",
    "import numpy as np # linear algebra\n",
    "import pandas as pd # data processing, CSV file I/O (e.g. pd.read_csv)\n",
    "\n",
    "# Input data files are available in the read-only \"../input/\" directory\n",
    "# For example, running this (by clicking run or pressing Shift+Enter) will list all files under the input directory\n",
    "\n",
    "import os\n",
    "for dirname, _, filenames in os.walk('/kaggle/input'):\n",
    "    for filename in filenames:\n",
    "        print(os.path.join(dirname, filename))\n",
    "\n",
    "# You can write up to 20GB to the current directory (/kaggle/working/) that gets preserved as output when you create a version using \"Save & Run All\" \n",
    "# You can also write temporary files to /kaggle/temp/, but they won't be saved outside of the current session"
   ]
  },
  {
   "cell_type": "code",
   "execution_count": 2,
   "id": "10a1b2d0",
   "metadata": {
    "execution": {
     "iopub.execute_input": "2024-01-28T13:08:31.021468Z",
     "iopub.status.busy": "2024-01-28T13:08:31.020929Z",
     "iopub.status.idle": "2024-01-28T13:08:33.388982Z",
     "shell.execute_reply": "2024-01-28T13:08:33.388214Z"
    },
    "papermill": {
     "duration": 2.377877,
     "end_time": "2024-01-28T13:08:33.391115",
     "exception": false,
     "start_time": "2024-01-28T13:08:31.013238",
     "status": "completed"
    },
    "tags": []
   },
   "outputs": [],
   "source": [
    "import numpy as np\n",
    "import pandas as pd\n",
    "import lightgbm as lgb\n",
    "from sklearn.model_selection import train_test_split, StratifiedKFold\n",
    "from sklearn.metrics import roc_auc_score\n",
    "import matplotlib.pyplot as plt\n",
    "from sklearn.feature_extraction.text import TfidfVectorizer\n",
    "from sklearn.decomposition import TruncatedSVD\n",
    "from sklearn.preprocessing import LabelEncoder\n",
    "import warnings\n",
    "\n",
    "warnings.filterwarnings(\"ignore\")"
   ]
  },
  {
   "cell_type": "code",
   "execution_count": 3,
   "id": "b1f3d7f6",
   "metadata": {
    "execution": {
     "iopub.execute_input": "2024-01-28T13:08:33.404605Z",
     "iopub.status.busy": "2024-01-28T13:08:33.403833Z",
     "iopub.status.idle": "2024-01-28T13:08:33.408610Z",
     "shell.execute_reply": "2024-01-28T13:08:33.407638Z"
    },
    "papermill": {
     "duration": 0.013683,
     "end_time": "2024-01-28T13:08:33.410666",
     "exception": false,
     "start_time": "2024-01-28T13:08:33.396983",
     "status": "completed"
    },
    "tags": []
   },
   "outputs": [],
   "source": [
    "# Parameters\n",
    "USE_DATA_LEAK = 'Y'  # Set to Y to exploit the data leak\n",
    "RAND_VAL = 44\n",
    "num_folds = 7  # Number of folds\n",
    "n_est = 5000  # Number of estimators\n"
   ]
  },
  {
   "cell_type": "code",
   "execution_count": 4,
   "id": "68ca4fd5",
   "metadata": {
    "execution": {
     "iopub.execute_input": "2024-01-28T13:08:33.423681Z",
     "iopub.status.busy": "2024-01-28T13:08:33.422763Z",
     "iopub.status.idle": "2024-01-28T13:08:34.166253Z",
     "shell.execute_reply": "2024-01-28T13:08:34.165314Z"
    },
    "papermill": {
     "duration": 0.752469,
     "end_time": "2024-01-28T13:08:34.168795",
     "exception": false,
     "start_time": "2024-01-28T13:08:33.416326",
     "status": "completed"
    },
    "tags": []
   },
   "outputs": [],
   "source": [
    "# Read Train and Test Files\n",
    "df_train = pd.read_csv('/kaggle/input/playground-series-s4e1/train.csv')\n",
    "df_test = pd.read_csv('/kaggle/input/playground-series-s4e1/test.csv')\n",
    "df_test_ov = df_test.copy()\n"
   ]
  },
  {
   "cell_type": "code",
   "execution_count": 5,
   "id": "a5bd8f59",
   "metadata": {
    "execution": {
     "iopub.execute_input": "2024-01-28T13:08:34.182484Z",
     "iopub.status.busy": "2024-01-28T13:08:34.182067Z",
     "iopub.status.idle": "2024-01-28T13:08:34.214800Z",
     "shell.execute_reply": "2024-01-28T13:08:34.213886Z"
    },
    "papermill": {
     "duration": 0.042672,
     "end_time": "2024-01-28T13:08:34.217469",
     "exception": false,
     "start_time": "2024-01-28T13:08:34.174797",
     "status": "completed"
    },
    "tags": []
   },
   "outputs": [],
   "source": [
    "# Scaling\n",
    "scale_cols = ['Age', 'CreditScore', 'Balance', 'EstimatedSalary', 'Tenure', 'NumOfProducts']\n",
    "\n",
    "for c in scale_cols:\n",
    "    min_value = df_train[c].min()\n",
    "    max_value = df_train[c].max()\n",
    "    df_train[c + \"_scaled\"] = (df_train[c] - min_value) / (max_value - min_value)\n",
    "    df_test[c + \"_scaled\"] = (df_test[c] - min_value) / (max_value - min_value)\n"
   ]
  },
  {
   "cell_type": "code",
   "execution_count": 6,
   "id": "dcb03f04",
   "metadata": {
    "execution": {
     "iopub.execute_input": "2024-01-28T13:08:34.230837Z",
     "iopub.status.busy": "2024-01-28T13:08:34.230493Z",
     "iopub.status.idle": "2024-01-28T13:08:39.806735Z",
     "shell.execute_reply": "2024-01-28T13:08:39.805901Z"
    },
    "papermill": {
     "duration": 5.585542,
     "end_time": "2024-01-28T13:08:39.809178",
     "exception": false,
     "start_time": "2024-01-28T13:08:34.223636",
     "status": "completed"
    },
    "tags": []
   },
   "outputs": [],
   "source": [
    "# TF-IDF Vectorization for Surname\n",
    "df_train['Sur_Geo_Gend_Sal'] = df_train['CustomerId'].astype('str') + df_train['Surname'] + df_train['Geography'] + df_train['Gender'] + np.round(df_train.EstimatedSalary).astype('str')\n",
    "df_test['Sur_Geo_Gend_Sal'] = df_test['CustomerId'].astype('str') + df_test['Surname'] + df_test['Geography'] + df_test['Gender'] + np.round(df_test.EstimatedSalary).astype('str')\n",
    "\n",
    "\n",
    "def get_vectors(df_train, df_test, col_name):\n",
    "    vectorizer = TfidfVectorizer(max_features=1000)\n",
    "    vectors_train = vectorizer.fit_transform(df_train[col_name])\n",
    "    vectors_test = vectorizer.transform(df_test[col_name])\n",
    "\n",
    "    svd = TruncatedSVD(3)\n",
    "    x_pca_train = svd.fit_transform(vectors_train)\n",
    "    x_pca_test = svd.transform(vectors_test)\n",
    "\n",
    "    tfidf_df_train = pd.DataFrame(x_pca_train, columns=[col_name + \"_tfidf_\" + str(f) for f in range(x_pca_train.shape[1])])\n",
    "    tfidf_df_test = pd.DataFrame(x_pca_test, columns=[col_name + \"_tfidf_\" + str(f) for f in range(x_pca_test.shape[1])])\n",
    "\n",
    "    df_train = pd.concat([df_train, tfidf_df_train], axis=\"columns\").reset_index(drop=True)\n",
    "    df_test = pd.concat([df_test, tfidf_df_test], axis=\"columns\").reset_index(drop=True)\n",
    "\n",
    "    return df_train, df_test\n",
    "\n",
    "\n",
    "df_train, df_test = get_vectors(df_train, df_test, 'Surname')\n",
    "df_train, df_test = get_vectors(df_train, df_test, 'Sur_Geo_Gend_Sal')\n"
   ]
  },
  {
   "cell_type": "code",
   "execution_count": 7,
   "id": "013ebdd7",
   "metadata": {
    "execution": {
     "iopub.execute_input": "2024-01-28T13:08:39.821682Z",
     "iopub.status.busy": "2024-01-28T13:08:39.821277Z",
     "iopub.status.idle": "2024-01-28T13:08:40.361394Z",
     "shell.execute_reply": "2024-01-28T13:08:40.360368Z"
    },
    "papermill": {
     "duration": 0.54904,
     "end_time": "2024-01-28T13:08:40.363921",
     "exception": false,
     "start_time": "2024-01-28T13:08:39.814881",
     "status": "completed"
    },
    "tags": []
   },
   "outputs": [],
   "source": [
    "# Feature Engineering\n",
    "def get_feats(df):\n",
    "    df['IsSenior'] = df['Age'].apply(lambda x: 1 if x >= 60 else 0)\n",
    "    df['IsActive_by_CreditCard'] = df['HasCrCard'] * df['IsActiveMember']\n",
    "    df['Products_Per_Tenure'] = df['Tenure'] / df['NumOfProducts']\n",
    "    df['len_SurName'] = df['Surname'].apply(lambda x: len(x))\n",
    "    df['AgeCat'] = np.round(df.Age / 20).astype('int').astype('category')\n",
    "\n",
    "    cat_cols = ['Geography', 'Gender', 'AgeCat']\n",
    "    df = pd.get_dummies(df, columns=cat_cols)\n",
    "    return df\n",
    "\n",
    "\n",
    "df_train = get_feats(df_train)\n",
    "df_test = get_feats(df_test)\n"
   ]
  },
  {
   "cell_type": "code",
   "execution_count": 8,
   "id": "bd4df999",
   "metadata": {
    "execution": {
     "iopub.execute_input": "2024-01-28T13:08:40.376950Z",
     "iopub.status.busy": "2024-01-28T13:08:40.376602Z",
     "iopub.status.idle": "2024-01-28T13:08:40.381833Z",
     "shell.execute_reply": "2024-01-28T13:08:40.381038Z"
    },
    "papermill": {
     "duration": 0.013855,
     "end_time": "2024-01-28T13:08:40.383692",
     "exception": false,
     "start_time": "2024-01-28T13:08:40.369837",
     "status": "completed"
    },
    "tags": []
   },
   "outputs": [],
   "source": [
    "# Feature columns\n",
    "feat_cols = df_train.columns.drop(['id', 'CustomerId', 'Surname', 'Exited', 'Sur_Geo_Gend_Sal'])\n",
    "feat_cols = feat_cols.drop(scale_cols)\n"
   ]
  },
  {
   "cell_type": "code",
   "execution_count": 9,
   "id": "142eacec",
   "metadata": {
    "execution": {
     "iopub.execute_input": "2024-01-28T13:08:40.395954Z",
     "iopub.status.busy": "2024-01-28T13:08:40.395409Z",
     "iopub.status.idle": "2024-01-28T13:08:40.422573Z",
     "shell.execute_reply": "2024-01-28T13:08:40.421855Z"
    },
    "papermill": {
     "duration": 0.035599,
     "end_time": "2024-01-28T13:08:40.424391",
     "exception": false,
     "start_time": "2024-01-28T13:08:40.388792",
     "status": "completed"
    },
    "tags": []
   },
   "outputs": [
    {
     "name": "stdout",
     "output_type": "stream",
     "text": [
      "Index(['HasCrCard', 'IsActiveMember', 'Age_scaled', 'CreditScore_scaled',\n",
      "       'Balance_scaled', 'EstimatedSalary_scaled', 'Tenure_scaled',\n",
      "       'NumOfProducts_scaled', 'Surname_tfidf_0', 'Surname_tfidf_1',\n",
      "       'Surname_tfidf_2', 'Sur_Geo_Gend_Sal_tfidf_0',\n",
      "       'Sur_Geo_Gend_Sal_tfidf_1', 'Sur_Geo_Gend_Sal_tfidf_2', 'IsSenior',\n",
      "       'IsActive_by_CreditCard', 'Products_Per_Tenure', 'len_SurName',\n",
      "       'Geography_France', 'Geography_Germany', 'Geography_Spain',\n",
      "       'Gender_Female', 'Gender_Male', 'AgeCat_1', 'AgeCat_2', 'AgeCat_3',\n",
      "       'AgeCat_4', 'AgeCat_5'],\n",
      "      dtype='object')\n"
     ]
    },
    {
     "data": {
      "text/html": [
       "<div>\n",
       "<style scoped>\n",
       "    .dataframe tbody tr th:only-of-type {\n",
       "        vertical-align: middle;\n",
       "    }\n",
       "\n",
       "    .dataframe tbody tr th {\n",
       "        vertical-align: top;\n",
       "    }\n",
       "\n",
       "    .dataframe thead th {\n",
       "        text-align: right;\n",
       "    }\n",
       "</style>\n",
       "<table border=\"1\" class=\"dataframe\">\n",
       "  <thead>\n",
       "    <tr style=\"text-align: right;\">\n",
       "      <th></th>\n",
       "      <th>id</th>\n",
       "      <th>CustomerId</th>\n",
       "      <th>Surname</th>\n",
       "      <th>CreditScore</th>\n",
       "      <th>Age</th>\n",
       "      <th>Tenure</th>\n",
       "      <th>Balance</th>\n",
       "      <th>NumOfProducts</th>\n",
       "      <th>HasCrCard</th>\n",
       "      <th>IsActiveMember</th>\n",
       "      <th>...</th>\n",
       "      <th>Geography_France</th>\n",
       "      <th>Geography_Germany</th>\n",
       "      <th>Geography_Spain</th>\n",
       "      <th>Gender_Female</th>\n",
       "      <th>Gender_Male</th>\n",
       "      <th>AgeCat_1</th>\n",
       "      <th>AgeCat_2</th>\n",
       "      <th>AgeCat_3</th>\n",
       "      <th>AgeCat_4</th>\n",
       "      <th>AgeCat_5</th>\n",
       "    </tr>\n",
       "  </thead>\n",
       "  <tbody>\n",
       "    <tr>\n",
       "      <th>0</th>\n",
       "      <td>0</td>\n",
       "      <td>15674932</td>\n",
       "      <td>Okwudilichukwu</td>\n",
       "      <td>668</td>\n",
       "      <td>33.0</td>\n",
       "      <td>3</td>\n",
       "      <td>0.00</td>\n",
       "      <td>2</td>\n",
       "      <td>1.0</td>\n",
       "      <td>0.0</td>\n",
       "      <td>...</td>\n",
       "      <td>True</td>\n",
       "      <td>False</td>\n",
       "      <td>False</td>\n",
       "      <td>False</td>\n",
       "      <td>True</td>\n",
       "      <td>False</td>\n",
       "      <td>True</td>\n",
       "      <td>False</td>\n",
       "      <td>False</td>\n",
       "      <td>False</td>\n",
       "    </tr>\n",
       "    <tr>\n",
       "      <th>1</th>\n",
       "      <td>1</td>\n",
       "      <td>15749177</td>\n",
       "      <td>Okwudiliolisa</td>\n",
       "      <td>627</td>\n",
       "      <td>33.0</td>\n",
       "      <td>1</td>\n",
       "      <td>0.00</td>\n",
       "      <td>2</td>\n",
       "      <td>1.0</td>\n",
       "      <td>1.0</td>\n",
       "      <td>...</td>\n",
       "      <td>True</td>\n",
       "      <td>False</td>\n",
       "      <td>False</td>\n",
       "      <td>False</td>\n",
       "      <td>True</td>\n",
       "      <td>False</td>\n",
       "      <td>True</td>\n",
       "      <td>False</td>\n",
       "      <td>False</td>\n",
       "      <td>False</td>\n",
       "    </tr>\n",
       "    <tr>\n",
       "      <th>2</th>\n",
       "      <td>2</td>\n",
       "      <td>15694510</td>\n",
       "      <td>Hsueh</td>\n",
       "      <td>678</td>\n",
       "      <td>40.0</td>\n",
       "      <td>10</td>\n",
       "      <td>0.00</td>\n",
       "      <td>2</td>\n",
       "      <td>1.0</td>\n",
       "      <td>0.0</td>\n",
       "      <td>...</td>\n",
       "      <td>True</td>\n",
       "      <td>False</td>\n",
       "      <td>False</td>\n",
       "      <td>False</td>\n",
       "      <td>True</td>\n",
       "      <td>False</td>\n",
       "      <td>True</td>\n",
       "      <td>False</td>\n",
       "      <td>False</td>\n",
       "      <td>False</td>\n",
       "    </tr>\n",
       "    <tr>\n",
       "      <th>3</th>\n",
       "      <td>3</td>\n",
       "      <td>15741417</td>\n",
       "      <td>Kao</td>\n",
       "      <td>581</td>\n",
       "      <td>34.0</td>\n",
       "      <td>2</td>\n",
       "      <td>148882.54</td>\n",
       "      <td>1</td>\n",
       "      <td>1.0</td>\n",
       "      <td>1.0</td>\n",
       "      <td>...</td>\n",
       "      <td>True</td>\n",
       "      <td>False</td>\n",
       "      <td>False</td>\n",
       "      <td>False</td>\n",
       "      <td>True</td>\n",
       "      <td>False</td>\n",
       "      <td>True</td>\n",
       "      <td>False</td>\n",
       "      <td>False</td>\n",
       "      <td>False</td>\n",
       "    </tr>\n",
       "    <tr>\n",
       "      <th>4</th>\n",
       "      <td>4</td>\n",
       "      <td>15766172</td>\n",
       "      <td>Chiemenam</td>\n",
       "      <td>716</td>\n",
       "      <td>33.0</td>\n",
       "      <td>5</td>\n",
       "      <td>0.00</td>\n",
       "      <td>2</td>\n",
       "      <td>1.0</td>\n",
       "      <td>1.0</td>\n",
       "      <td>...</td>\n",
       "      <td>False</td>\n",
       "      <td>False</td>\n",
       "      <td>True</td>\n",
       "      <td>False</td>\n",
       "      <td>True</td>\n",
       "      <td>False</td>\n",
       "      <td>True</td>\n",
       "      <td>False</td>\n",
       "      <td>False</td>\n",
       "      <td>False</td>\n",
       "    </tr>\n",
       "  </tbody>\n",
       "</table>\n",
       "<p>5 rows × 39 columns</p>\n",
       "</div>"
      ],
      "text/plain": [
       "   id  CustomerId         Surname  CreditScore   Age  Tenure    Balance  \\\n",
       "0   0    15674932  Okwudilichukwu          668  33.0       3       0.00   \n",
       "1   1    15749177   Okwudiliolisa          627  33.0       1       0.00   \n",
       "2   2    15694510           Hsueh          678  40.0      10       0.00   \n",
       "3   3    15741417             Kao          581  34.0       2  148882.54   \n",
       "4   4    15766172       Chiemenam          716  33.0       5       0.00   \n",
       "\n",
       "   NumOfProducts  HasCrCard  IsActiveMember  ...  Geography_France  \\\n",
       "0              2        1.0             0.0  ...              True   \n",
       "1              2        1.0             1.0  ...              True   \n",
       "2              2        1.0             0.0  ...              True   \n",
       "3              1        1.0             1.0  ...              True   \n",
       "4              2        1.0             1.0  ...             False   \n",
       "\n",
       "   Geography_Germany  Geography_Spain  Gender_Female  Gender_Male  AgeCat_1  \\\n",
       "0              False            False          False         True     False   \n",
       "1              False            False          False         True     False   \n",
       "2              False            False          False         True     False   \n",
       "3              False            False          False         True     False   \n",
       "4              False             True          False         True     False   \n",
       "\n",
       "   AgeCat_2  AgeCat_3 AgeCat_4  AgeCat_5  \n",
       "0      True     False    False     False  \n",
       "1      True     False    False     False  \n",
       "2      True     False    False     False  \n",
       "3      True     False    False     False  \n",
       "4      True     False    False     False  \n",
       "\n",
       "[5 rows x 39 columns]"
      ]
     },
     "execution_count": 9,
     "metadata": {},
     "output_type": "execute_result"
    }
   ],
   "source": [
    "# Print feature columns\n",
    "print(feat_cols)\n",
    "df_train.head()\n"
   ]
  },
  {
   "cell_type": "code",
   "execution_count": 10,
   "id": "1ea297c7",
   "metadata": {
    "execution": {
     "iopub.execute_input": "2024-01-28T13:08:40.437919Z",
     "iopub.status.busy": "2024-01-28T13:08:40.437376Z",
     "iopub.status.idle": "2024-01-28T13:08:40.449154Z",
     "shell.execute_reply": "2024-01-28T13:08:40.448209Z"
    },
    "papermill": {
     "duration": 0.020809,
     "end_time": "2024-01-28T13:08:40.451136",
     "exception": false,
     "start_time": "2024-01-28T13:08:40.430327",
     "status": "completed"
    },
    "tags": []
   },
   "outputs": [],
   "source": [
    "# X and y\n",
    "X = df_train[feat_cols]\n",
    "y = df_train['Exited']\n"
   ]
  },
  {
   "cell_type": "code",
   "execution_count": 11,
   "id": "10f83e7c",
   "metadata": {
    "execution": {
     "iopub.execute_input": "2024-01-28T13:08:40.464741Z",
     "iopub.status.busy": "2024-01-28T13:08:40.464028Z",
     "iopub.status.idle": "2024-01-28T13:08:40.469338Z",
     "shell.execute_reply": "2024-01-28T13:08:40.468617Z"
    },
    "papermill": {
     "duration": 0.014194,
     "end_time": "2024-01-28T13:08:40.471340",
     "exception": false,
     "start_time": "2024-01-28T13:08:40.457146",
     "status": "completed"
    },
    "tags": []
   },
   "outputs": [],
   "source": [
    "# Parameters\n",
    "lgb_params = {'n_estimators': n_est,\n",
    "              'max_depth': 22,\n",
    "              'learning_rate': 0.025,\n",
    "              'min_child_weight': 3.43,\n",
    "              'min_child_samples': 216,\n",
    "              'subsample': 0.782,\n",
    "              'subsample_freq': 4,\n",
    "              'colsample_bytree': 0.29,\n",
    "              'num_leaves': 21}\n"
   ]
  },
  {
   "cell_type": "code",
   "execution_count": 12,
   "id": "026551fa",
   "metadata": {
    "execution": {
     "iopub.execute_input": "2024-01-28T13:08:40.484704Z",
     "iopub.status.busy": "2024-01-28T13:08:40.484207Z",
     "iopub.status.idle": "2024-01-28T13:09:59.312183Z",
     "shell.execute_reply": "2024-01-28T13:09:59.311179Z"
    },
    "papermill": {
     "duration": 78.845567,
     "end_time": "2024-01-28T13:09:59.322903",
     "exception": false,
     "start_time": "2024-01-28T13:08:40.477336",
     "status": "completed"
    },
    "tags": []
   },
   "outputs": [
    {
     "data": {
      "image/png": "[encoded data removed]",
      "text/plain": [
       "<Figure size 1200x1000 with 1 Axes>"
      ]
     },
     "metadata": {},
     "output_type": "display_data"
    }
   ],
   "source": [
    "# Feature Importance\n",
    "lgb_classifier = lgb.LGBMClassifier(**lgb_params)\n",
    "lgb_classifier.fit(X, y)\n",
    "\n",
    "lgb.plot_importance(lgb_classifier, importance_type=\"gain\", figsize=(12, 10), max_num_features=12,\n",
    "                    title=\"LightGBM Feature Importance (Gain)\")\n",
    "plt.show()"
   ]
  },
  {
   "cell_type": "code",
   "execution_count": 13,
   "id": "27c2fdba",
   "metadata": {
    "execution": {
     "iopub.execute_input": "2024-01-28T13:09:59.339124Z",
     "iopub.status.busy": "2024-01-28T13:09:59.338765Z",
     "iopub.status.idle": "2024-01-28T13:14:56.457975Z",
     "shell.execute_reply": "2024-01-28T13:14:56.456918Z"
    },
    "papermill": {
     "duration": 297.131041,
     "end_time": "2024-01-28T13:14:56.461139",
     "exception": false,
     "start_time": "2024-01-28T13:09:59.330098",
     "status": "completed"
    },
    "tags": []
   },
   "outputs": [
    {
     "name": "stdout",
     "output_type": "stream",
     "text": [
      "[200]\tvalid_0's auc: 0.880234\tvalid_0's binary_logloss: 0.339808\n",
      "[400]\tvalid_0's auc: 0.887553\tvalid_0's binary_logloss: 0.323088\n",
      "[600]\tvalid_0's auc: 0.890828\tvalid_0's binary_logloss: 0.317468\n",
      "[800]\tvalid_0's auc: 0.892376\tvalid_0's binary_logloss: 0.314883\n",
      "[1000]\tvalid_0's auc: 0.89303\tvalid_0's binary_logloss: 0.31381\n",
      "[1200]\tvalid_0's auc: 0.893464\tvalid_0's binary_logloss: 0.313045\n",
      "[1400]\tvalid_0's auc: 0.893665\tvalid_0's binary_logloss: 0.312652\n",
      "[1600]\tvalid_0's auc: 0.893741\tvalid_0's binary_logloss: 0.312426\n",
      "AUC for fold 0: 0.8937836847692855\n",
      "----------------\n",
      "[200]\tvalid_0's auc: 0.877788\tvalid_0's binary_logloss: 0.341336\n",
      "[400]\tvalid_0's auc: 0.885466\tvalid_0's binary_logloss: 0.325091\n",
      "[600]\tvalid_0's auc: 0.889382\tvalid_0's binary_logloss: 0.319169\n",
      "[800]\tvalid_0's auc: 0.891243\tvalid_0's binary_logloss: 0.316538\n",
      "[1000]\tvalid_0's auc: 0.892096\tvalid_0's binary_logloss: 0.315389\n",
      "[1200]\tvalid_0's auc: 0.892744\tvalid_0's binary_logloss: 0.314568\n",
      "[1400]\tvalid_0's auc: 0.893182\tvalid_0's binary_logloss: 0.313981\n",
      "[1600]\tvalid_0's auc: 0.893493\tvalid_0's binary_logloss: 0.313586\n",
      "[1800]\tvalid_0's auc: 0.893633\tvalid_0's binary_logloss: 0.313385\n",
      "[2000]\tvalid_0's auc: 0.893803\tvalid_0's binary_logloss: 0.313111\n",
      "[2200]\tvalid_0's auc: 0.893835\tvalid_0's binary_logloss: 0.313058\n",
      "[2400]\tvalid_0's auc: 0.893946\tvalid_0's binary_logloss: 0.312945\n",
      "AUC for fold 1: 0.893955954229065\n",
      "----------------\n",
      "[200]\tvalid_0's auc: 0.878699\tvalid_0's binary_logloss: 0.340597\n",
      "[400]\tvalid_0's auc: 0.885911\tvalid_0's binary_logloss: 0.324502\n",
      "[600]\tvalid_0's auc: 0.889194\tvalid_0's binary_logloss: 0.319136\n",
      "[800]\tvalid_0's auc: 0.890702\tvalid_0's binary_logloss: 0.316845\n",
      "[1000]\tvalid_0's auc: 0.89128\tvalid_0's binary_logloss: 0.31597\n",
      "[1200]\tvalid_0's auc: 0.891692\tvalid_0's binary_logloss: 0.315343\n",
      "[1400]\tvalid_0's auc: 0.891994\tvalid_0's binary_logloss: 0.314896\n",
      "[1600]\tvalid_0's auc: 0.892123\tvalid_0's binary_logloss: 0.314659\n",
      "[1800]\tvalid_0's auc: 0.892156\tvalid_0's binary_logloss: 0.31456\n",
      "[2000]\tvalid_0's auc: 0.892221\tvalid_0's binary_logloss: 0.314459\n",
      "AUC for fold 2: 0.8922365473995779\n",
      "----------------\n",
      "[200]\tvalid_0's auc: 0.882313\tvalid_0's binary_logloss: 0.339295\n",
      "[400]\tvalid_0's auc: 0.889099\tvalid_0's binary_logloss: 0.323072\n",
      "[600]\tvalid_0's auc: 0.892805\tvalid_0's binary_logloss: 0.317067\n",
      "[800]\tvalid_0's auc: 0.894599\tvalid_0's binary_logloss: 0.314442\n",
      "[1000]\tvalid_0's auc: 0.895386\tvalid_0's binary_logloss: 0.313315\n",
      "[1200]\tvalid_0's auc: 0.895999\tvalid_0's binary_logloss: 0.312432\n",
      "[1400]\tvalid_0's auc: 0.896457\tvalid_0's binary_logloss: 0.311843\n",
      "[1600]\tvalid_0's auc: 0.896612\tvalid_0's binary_logloss: 0.311559\n",
      "[1800]\tvalid_0's auc: 0.896688\tvalid_0's binary_logloss: 0.311405\n",
      "[2000]\tvalid_0's auc: 0.896832\tvalid_0's binary_logloss: 0.311214\n",
      "AUC for fold 3: 0.8968543117642014\n",
      "----------------\n",
      "[200]\tvalid_0's auc: 0.879897\tvalid_0's binary_logloss: 0.34015\n",
      "[400]\tvalid_0's auc: 0.886767\tvalid_0's binary_logloss: 0.324503\n",
      "[600]\tvalid_0's auc: 0.890247\tvalid_0's binary_logloss: 0.318946\n",
      "[800]\tvalid_0's auc: 0.892151\tvalid_0's binary_logloss: 0.31621\n",
      "[1000]\tvalid_0's auc: 0.892947\tvalid_0's binary_logloss: 0.315092\n",
      "[1200]\tvalid_0's auc: 0.893544\tvalid_0's binary_logloss: 0.31431\n",
      "[1400]\tvalid_0's auc: 0.893921\tvalid_0's binary_logloss: 0.313781\n",
      "[1600]\tvalid_0's auc: 0.894206\tvalid_0's binary_logloss: 0.313401\n",
      "AUC for fold 4: 0.8942796388025034\n",
      "----------------\n",
      "[200]\tvalid_0's auc: 0.881832\tvalid_0's binary_logloss: 0.338447\n",
      "[400]\tvalid_0's auc: 0.889067\tvalid_0's binary_logloss: 0.321765\n",
      "[600]\tvalid_0's auc: 0.892335\tvalid_0's binary_logloss: 0.316051\n",
      "[800]\tvalid_0's auc: 0.893756\tvalid_0's binary_logloss: 0.313675\n",
      "[1000]\tvalid_0's auc: 0.89427\tvalid_0's binary_logloss: 0.312817\n",
      "[1200]\tvalid_0's auc: 0.894809\tvalid_0's binary_logloss: 0.312071\n",
      "[1400]\tvalid_0's auc: 0.895156\tvalid_0's binary_logloss: 0.311593\n",
      "[1600]\tvalid_0's auc: 0.895452\tvalid_0's binary_logloss: 0.311173\n",
      "[1800]\tvalid_0's auc: 0.895497\tvalid_0's binary_logloss: 0.311095\n",
      "[2000]\tvalid_0's auc: 0.895643\tvalid_0's binary_logloss: 0.310904\n",
      "AUC for fold 5: 0.895687923449343\n",
      "----------------\n",
      "[200]\tvalid_0's auc: 0.879906\tvalid_0's binary_logloss: 0.339993\n",
      "[400]\tvalid_0's auc: 0.888497\tvalid_0's binary_logloss: 0.322341\n",
      "[600]\tvalid_0's auc: 0.892492\tvalid_0's binary_logloss: 0.315975\n",
      "[800]\tvalid_0's auc: 0.894454\tvalid_0's binary_logloss: 0.313012\n",
      "[1000]\tvalid_0's auc: 0.895196\tvalid_0's binary_logloss: 0.311836\n",
      "[1200]\tvalid_0's auc: 0.89594\tvalid_0's binary_logloss: 0.31072\n",
      "[1400]\tvalid_0's auc: 0.896238\tvalid_0's binary_logloss: 0.310207\n",
      "[1600]\tvalid_0's auc: 0.89638\tvalid_0's binary_logloss: 0.309979\n",
      "AUC for fold 6: 0.8963961259236884\n",
      "----------------\n"
     ]
    }
   ],
   "source": [
    "# Training\n",
    "folds = StratifiedKFold(n_splits=num_folds, random_state=RAND_VAL, shuffle=True)\n",
    "test_preds = np.empty((num_folds, len(df_test)))\n",
    "auc_vals = []\n",
    "\n",
    "for n_fold, (train_idx, valid_idx) in enumerate(folds.split(X, y)):\n",
    "    X_train, y_train = X.iloc[train_idx], y.iloc[train_idx]\n",
    "    X_val, y_val = X.iloc[valid_idx], y.iloc[valid_idx]\n",
    "\n",
    "    lgb_classifier = lgb.LGBMClassifier(**lgb_params)\n",
    "    lgb_classifier.fit(X_train, y_train,\n",
    "                       eval_set=[(X_val, y_val)],\n",
    "                       eval_metric='auc',\n",
    "                       early_stopping_rounds=100, verbose=200)\n",
    "\n",
    "    y_pred_val = lgb_classifier.predict_proba(X_val[feat_cols])[:, 1]\n",
    "    auc_val = roc_auc_score(y_val, y_pred_val)\n",
    "    print(f\"AUC for fold {n_fold}: {auc_val}\")\n",
    "    auc_vals.append(auc_val)\n",
    "\n",
    "    y_pred_test = lgb_classifier.predict_proba(df_test[feat_cols])[:, 1]\n",
    "    test_preds[n_fold, :] = y_pred_test\n",
    "    print(\"----------------\")"
   ]
  },
  {
   "cell_type": "code",
   "execution_count": 14,
   "id": "2bf17344",
   "metadata": {
    "execution": {
     "iopub.execute_input": "2024-01-28T13:14:56.499331Z",
     "iopub.status.busy": "2024-01-28T13:14:56.498697Z",
     "iopub.status.idle": "2024-01-28T13:14:56.504403Z",
     "shell.execute_reply": "2024-01-28T13:14:56.503235Z"
    },
    "papermill": {
     "duration": 0.024222,
     "end_time": "2024-01-28T13:14:56.506540",
     "exception": false,
     "start_time": "2024-01-28T13:14:56.482318",
     "status": "completed"
    },
    "tags": []
   },
   "outputs": [
    {
     "name": "stdout",
     "output_type": "stream",
     "text": [
      "Mean AUC: 0.8947420266196664\n"
     ]
    }
   ],
   "source": [
    "# Evaluation\n",
    "print(\"Mean AUC:\", np.mean(auc_vals))\n"
   ]
  },
  {
   "cell_type": "code",
   "execution_count": 15,
   "id": "1b488df5",
   "metadata": {
    "execution": {
     "iopub.execute_input": "2024-01-28T13:14:56.537852Z",
     "iopub.status.busy": "2024-01-28T13:14:56.537486Z",
     "iopub.status.idle": "2024-01-28T13:14:57.498166Z",
     "shell.execute_reply": "2024-01-28T13:14:57.497077Z"
    },
    "papermill": {
     "duration": 0.979737,
     "end_time": "2024-01-28T13:14:57.500873",
     "exception": false,
     "start_time": "2024-01-28T13:14:56.521136",
     "status": "completed"
    },
    "tags": []
   },
   "outputs": [
    {
     "data": {
      "image/png": "[encoded data removed]",
      "text/plain": [
       "<Figure size 1200x600 with 1 Axes>"
      ]
     },
     "metadata": {},
     "output_type": "display_data"
    }
   ],
   "source": [
    "# Prediction and Submission\n",
    "y_pred = test_preds.mean(axis=0)\n",
    "\n",
    "df_orig = pd.read_csv(\"/kaggle/input/bank-customer-churn-prediction/Churn_Modelling.csv\")\n",
    "join_cols = list(df_orig.columns.drop(['RowNumber', 'Exited']))\n",
    "df_orig.rename(columns={'Exited': 'Exited_Orig'}, inplace=True)\n",
    "df_orig['Exited_Orig'] = df_orig['Exited_Orig'].map({0: 1, 1: 0})\n",
    "df_test_ov = df_test_ov.merge(df_orig, on=join_cols, how='left')[['id', 'Exited_Orig']].fillna(-1)\n",
    "\n",
    "df_sub = df_test_ov[['id', 'Exited_Orig']]\n",
    "\n",
    "if USE_DATA_LEAK == 'Y':\n",
    "    df_sub['Exited'] = np.where(df_sub.Exited_Orig == -1, y_pred, df_sub.Exited_Orig)\n",
    "else:\n",
    "    df_sub['Exited'] = y_pred\n",
    "\n",
    "df_sub.drop('Exited_Orig', axis=1, inplace=True)\n",
    "df_sub.head()\n",
    "\n",
    "df_sub.to_csv(\"submission.csv\", index=False)\n",
    "\n",
    "df_sub.hist(column='Exited', bins=20, range=[0, 1], figsize=(12, 6))\n",
    "plt.show()"
   ]
  },
  {
   "cell_type": "code",
   "execution_count": null,
   "id": "95512c54",
   "metadata": {
    "papermill": {
     "duration": 0.015614,
     "end_time": "2024-01-28T13:14:57.532225",
     "exception": false,
     "start_time": "2024-01-28T13:14:57.516611",
     "status": "completed"
    },
    "tags": []
   },
   "outputs": [],
   "source": []
  }
 ],
 "metadata": {
  "kaggle": {
   "accelerator": "none",
   "dataSources": [
    {
     "databundleVersionId": 7405009,
     "sourceId": 65711,
     "sourceType": "competition"
    },
    {
     "datasetId": 3191230,
     "sourceId": 5536933,
     "sourceType": "datasetVersion"
    }
   ],
   "dockerImageVersionId": 30635,
   "isGpuEnabled": false,
   "isInternetEnabled": true,
   "language": "python",
   "sourceType": "notebook"
  },
  "kernelspec": {
   "display_name": "Python 3",
   "language": "python",
   "name": "python3"
  },
  "language_info": {
   "codemirror_mode": {
    "name": "ipython",
    "version": 3
   },
   "file_extension": ".py",
   "mimetype": "text/x-python",
   "name": "python",
   "nbconvert_exporter": "python",
   "pygments_lexer": "ipython3",
   "version": "3.10.12"
  },
  "papermill": {
   "default_parameters": {},
   "duration": 390.804116,
   "end_time": "2024-01-28T13:14:58.271060",
   "environment_variables": {},
   "exception": null,
   "input_path": "__notebook__.ipynb",
   "output_path": "__notebook__.ipynb",
   "parameters": {},
   "start_time": "2024-01-28T13:08:27.466944",
   "version": "2.4.0"
  }
 },
 "nbformat": 4,
 "nbformat_minor": 5
}
