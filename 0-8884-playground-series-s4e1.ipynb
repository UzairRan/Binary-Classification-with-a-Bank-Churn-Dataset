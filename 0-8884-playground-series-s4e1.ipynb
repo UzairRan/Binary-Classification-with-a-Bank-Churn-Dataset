{
 "cells": [
  {
   "cell_type": "code",
   "execution_count": 1,
   "id": "c241ba78",
   "metadata": {
    "_cell_guid": "b1076dfc-b9ad-4769-8c92-a6c4dae69d19",
    "_uuid": "8f2839f25d086af736a60e9eeb907d3b93b6e0e5",
    "execution": {
     "iopub.execute_input": "2024-01-27T14:41:11.679382Z",
     "iopub.status.busy": "2024-01-27T14:41:11.678979Z",
     "iopub.status.idle": "2024-01-27T14:41:12.027861Z",
     "shell.execute_reply": "2024-01-27T14:41:12.026405Z"
    },
    "papermill": {
     "duration": 0.357205,
     "end_time": "2024-01-27T14:41:12.030757",
     "exception": false,
     "start_time": "2024-01-27T14:41:11.673552",
     "status": "completed"
    },
    "tags": []
   },
   "outputs": [
    {
     "name": "stdout",
     "output_type": "stream",
     "text": [
      "/kaggle/input/playground-series-s4e1/sample_submission.csv\n",
      "/kaggle/input/playground-series-s4e1/train.csv\n",
      "/kaggle/input/playground-series-s4e1/test.csv\n"
     ]
    }
   ],
   "source": [
    "# This Python 3 environment comes with many helpful analytics libraries installed\n",
    "# It is defined by the kaggle/python Docker image: https://github.com/kaggle/docker-python\n",
    "# For example, here's several helpful packages to load\n",
    "\n",
    "import numpy as np # linear algebra\n",
    "import pandas as pd # data processing, CSV file I/O (e.g. pd.read_csv)\n",
    "\n",
    "# Input data files are available in the read-only \"../input/\" directory\n",
    "# For example, running this (by clicking run or pressing Shift+Enter) will list all files under the input directory\n",
    "\n",
    "import os\n",
    "for dirname, _, filenames in os.walk('/kaggle/input'):\n",
    "    for filename in filenames:\n",
    "        print(os.path.join(dirname, filename))\n",
    "\n",
    "# You can write up to 20GB to the current directory (/kaggle/working/) that gets preserved as output when you create a version using \"Save & Run All\" \n",
    "# You can also write temporary files to /kaggle/temp/, but they won't be saved outside of the current session"
   ]
  },
  {
   "cell_type": "code",
   "execution_count": 2,
   "id": "44e4e76c",
   "metadata": {
    "execution": {
     "iopub.execute_input": "2024-01-27T14:41:12.038966Z",
     "iopub.status.busy": "2024-01-27T14:41:12.038424Z",
     "iopub.status.idle": "2024-01-27T14:41:15.344790Z",
     "shell.execute_reply": "2024-01-27T14:41:15.343296Z"
    },
    "papermill": {
     "duration": 3.313595,
     "end_time": "2024-01-27T14:41:15.347710",
     "exception": false,
     "start_time": "2024-01-27T14:41:12.034115",
     "status": "completed"
    },
    "tags": []
   },
   "outputs": [],
   "source": [
    "# Importing necessary libraries\n",
    "import numpy as np\n",
    "import pandas as pd\n",
    "from sklearn.model_selection import train_test_split\n",
    "from sklearn.preprocessing import StandardScaler\n",
    "from category_encoders import OneHotEncoder\n",
    "from sklearn.metrics import roc_auc_score\n",
    "from sklearn.pipeline import make_pipeline\n",
    "from lightgbm import LGBMClassifier"
   ]
  },
  {
   "cell_type": "code",
   "execution_count": 3,
   "id": "89251e8f",
   "metadata": {
    "execution": {
     "iopub.execute_input": "2024-01-27T14:41:15.355403Z",
     "iopub.status.busy": "2024-01-27T14:41:15.354997Z",
     "iopub.status.idle": "2024-01-27T14:41:15.361184Z",
     "shell.execute_reply": "2024-01-27T14:41:15.359328Z"
    },
    "papermill": {
     "duration": 0.013008,
     "end_time": "2024-01-27T14:41:15.363847",
     "exception": false,
     "start_time": "2024-01-27T14:41:15.350839",
     "status": "completed"
    },
    "tags": []
   },
   "outputs": [],
   "source": [
    "# Function to read and preprocess data\n",
    "def wrangle(filepath):\n",
    "    df = pd.read_csv(filepath, index_col=\"id\")\n",
    "    df = df.sort_values(by=\"CustomerId\")\n",
    "    return df\n"
   ]
  },
  {
   "cell_type": "code",
   "execution_count": 4,
   "id": "34578431",
   "metadata": {
    "execution": {
     "iopub.execute_input": "2024-01-27T14:41:15.371493Z",
     "iopub.status.busy": "2024-01-27T14:41:15.371122Z",
     "iopub.status.idle": "2024-01-27T14:41:15.827660Z",
     "shell.execute_reply": "2024-01-27T14:41:15.826278Z"
    },
    "papermill": {
     "duration": 0.463207,
     "end_time": "2024-01-27T14:41:15.830172",
     "exception": false,
     "start_time": "2024-01-27T14:41:15.366965",
     "status": "completed"
    },
    "tags": []
   },
   "outputs": [],
   "source": [
    "# Reading and preprocessing training data\n",
    "df = wrangle(\"/kaggle/input/playground-series-s4e1/train.csv\")\n",
    "target = \"Exited\"\n",
    "X = df.drop(columns=target)\n",
    "y = df[target]\n",
    "X_train, X_test, y_train, y_test = train_test_split(X, y, test_size=0.2, random_state=42)\n"
   ]
  },
  {
   "cell_type": "code",
   "execution_count": 5,
   "id": "5184db86",
   "metadata": {
    "execution": {
     "iopub.execute_input": "2024-01-27T14:41:15.837767Z",
     "iopub.status.busy": "2024-01-27T14:41:15.837390Z",
     "iopub.status.idle": "2024-01-27T14:41:15.843681Z",
     "shell.execute_reply": "2024-01-27T14:41:15.842137Z"
    },
    "papermill": {
     "duration": 0.012726,
     "end_time": "2024-01-27T14:41:15.846083",
     "exception": false,
     "start_time": "2024-01-27T14:41:15.833357",
     "status": "completed"
    },
    "tags": []
   },
   "outputs": [],
   "source": [
    "# LightGBM pipeline\n",
    "lgb = make_pipeline(\n",
    "    OneHotEncoder(use_cat_names=True),\n",
    "    StandardScaler(),\n",
    "    LGBMClassifier(random_state=42)\n",
    ")\n"
   ]
  },
  {
   "cell_type": "code",
   "execution_count": 6,
   "id": "3e257b96",
   "metadata": {
    "execution": {
     "iopub.execute_input": "2024-01-27T14:41:15.855828Z",
     "iopub.status.busy": "2024-01-27T14:41:15.855417Z",
     "iopub.status.idle": "2024-01-27T14:41:56.270286Z",
     "shell.execute_reply": "2024-01-27T14:41:56.269470Z"
    },
    "papermill": {
     "duration": 40.422605,
     "end_time": "2024-01-27T14:41:56.272624",
     "exception": false,
     "start_time": "2024-01-27T14:41:15.850019",
     "status": "completed"
    },
    "tags": []
   },
   "outputs": [],
   "source": [
    "# Training and evaluating LightGBM\n",
    "lgb.fit(X_train, y_train)\n",
    "train_auc = roc_auc_score(y_train, lgb.predict_proba(X_train)[:, 1])\n",
    "test_auc = roc_auc_score(y_test, lgb.predict_proba(X_test)[:, 1])\n"
   ]
  },
  {
   "cell_type": "code",
   "execution_count": 7,
   "id": "defd6bda",
   "metadata": {
    "execution": {
     "iopub.execute_input": "2024-01-27T14:41:56.281476Z",
     "iopub.status.busy": "2024-01-27T14:41:56.280942Z",
     "iopub.status.idle": "2024-01-27T14:41:56.284963Z",
     "shell.execute_reply": "2024-01-27T14:41:56.284325Z"
    },
    "papermill": {
     "duration": 0.010372,
     "end_time": "2024-01-27T14:41:56.286817",
     "exception": false,
     "start_time": "2024-01-27T14:41:56.276445",
     "status": "completed"
    },
    "tags": []
   },
   "outputs": [
    {
     "name": "stdout",
     "output_type": "stream",
     "text": [
      "Train AUC (LightGBM): 0.9022334943093565\n",
      "Test AUC (LightGBM): 0.8887597548468604\n"
     ]
    }
   ],
   "source": [
    "# Displaying results\n",
    "print(f\"Train AUC (LightGBM): {train_auc}\")\n",
    "print(f\"Test AUC (LightGBM): {test_auc}\")\n"
   ]
  },
  {
   "cell_type": "code",
   "execution_count": 8,
   "id": "8959b51b",
   "metadata": {
    "execution": {
     "iopub.execute_input": "2024-01-27T14:41:56.295092Z",
     "iopub.status.busy": "2024-01-27T14:41:56.294505Z",
     "iopub.status.idle": "2024-01-27T14:41:56.655620Z",
     "shell.execute_reply": "2024-01-27T14:41:56.653679Z"
    },
    "papermill": {
     "duration": 0.368163,
     "end_time": "2024-01-27T14:41:56.658171",
     "exception": false,
     "start_time": "2024-01-27T14:41:56.290008",
     "status": "completed"
    },
    "tags": []
   },
   "outputs": [
    {
     "name": "stderr",
     "output_type": "stream",
     "text": [
      "/opt/conda/lib/python3.10/site-packages/category_encoders/utils.py:366: FutureWarning: `get_feature_names` is deprecated in all of sklearn. Use `get_feature_names_out` instead.\n",
      "  warnings.warn(\"`get_feature_names` is deprecated in all of sklearn. Use `get_feature_names_out` instead.\",\n"
     ]
    },
    {
     "data": {
      "text/plain": [
       "Text(0.5, 1.0, 'Top 15 Feature Importance (LightGBM)')"
      ]
     },
     "execution_count": 8,
     "metadata": {},
     "output_type": "execute_result"
    },
    {
     "data": {
      "image/png": "[encoded data removed]",
      "text/plain": [
       "<Figure size 640x480 with 1 Axes>"
      ]
     },
     "metadata": {},
     "output_type": "display_data"
    }
   ],
   "source": [
    "import matplotlib.pyplot as plt\n",
    "# Plotting feature importance\n",
    "imp = lgb.named_steps[\"lgbmclassifier\"].feature_importances_\n",
    "features = lgb.named_steps[\"onehotencoder\"].get_feature_names()\n",
    "feat_imp = pd.DataFrame({\"Importance\": imp}, index=features)\n",
    "top_features = feat_imp.sort_values(by=\"Importance\").tail(15)\n",
    "top_features.plot(kind=\"barh\", legend=False)\n",
    "plt.xlabel(\"Importance\")\n",
    "plt.ylabel(\"Features\")\n",
    "plt.title(\"Top 15 Feature Importance (LightGBM)\")\n"
   ]
  },
  {
   "cell_type": "code",
   "execution_count": 9,
   "id": "dc69788d",
   "metadata": {
    "execution": {
     "iopub.execute_input": "2024-01-27T14:41:56.667757Z",
     "iopub.status.busy": "2024-01-27T14:41:56.667312Z",
     "iopub.status.idle": "2024-01-27T14:42:02.980250Z",
     "shell.execute_reply": "2024-01-27T14:42:02.978657Z"
    },
    "papermill": {
     "duration": 6.320994,
     "end_time": "2024-01-27T14:42:02.983094",
     "exception": false,
     "start_time": "2024-01-27T14:41:56.662100",
     "status": "completed"
    },
    "tags": []
   },
   "outputs": [],
   "source": [
    "# Function to make submission\n",
    "def make_submission(model, output_filename):\n",
    "    test_data = wrangle(\"/kaggle/input/playground-series-s4e1/test.csv\")\n",
    "    submission = pd.DataFrame({\"Exited\": model.predict_proba(test_data)[:, 1]}, index=test_data.index)\n",
    "    submission.to_csv(output_filename)\n",
    "\n",
    "# Creating submission with LightGBM model\n",
    "make_submission(lgb, \"submission_lightgbm.csv\")"
   ]
  },
  {
   "cell_type": "code",
   "execution_count": null,
   "id": "89ecf95e",
   "metadata": {
    "papermill": {
     "duration": 0.003372,
     "end_time": "2024-01-27T14:42:02.990476",
     "exception": false,
     "start_time": "2024-01-27T14:42:02.987104",
     "status": "completed"
    },
    "tags": []
   },
   "outputs": [],
   "source": []
  }
 ],
 "metadata": {
  "kaggle": {
   "accelerator": "none",
   "dataSources": [
    {
     "databundleVersionId": 7405009,
     "sourceId": 65711,
     "sourceType": "competition"
    }
   ],
   "dockerImageVersionId": 30635,
   "isGpuEnabled": false,
   "isInternetEnabled": true,
   "language": "python",
   "sourceType": "notebook"
  },
  "kernelspec": {
   "display_name": "Python 3",
   "language": "python",
   "name": "python3"
  },
  "language_info": {
   "codemirror_mode": {
    "name": "ipython",
    "version": 3
   },
   "file_extension": ".py",
   "mimetype": "text/x-python",
   "name": "python",
   "nbconvert_exporter": "python",
   "pygments_lexer": "ipython3",
   "version": "3.10.12"
  },
  "papermill": {
   "default_parameters": {},
   "duration": 54.85326,
   "end_time": "2024-01-27T14:42:03.716428",
   "environment_variables": {},
   "exception": null,
   "input_path": "__notebook__.ipynb",
   "output_path": "__notebook__.ipynb",
   "parameters": {},
   "start_time": "2024-01-27T14:41:08.863168",
   "version": "2.4.0"
  }
 },
 "nbformat": 4,
 "nbformat_minor": 5
}
